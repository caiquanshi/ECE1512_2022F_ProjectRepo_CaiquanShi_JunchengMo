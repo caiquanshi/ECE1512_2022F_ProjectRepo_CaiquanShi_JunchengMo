{
  "nbformat": 4,
  "nbformat_minor": 0,
  "metadata": {
    "colab": {
      "provenance": [],
      "machine_shape": "hm"
    },
    "kernelspec": {
      "name": "python3",
      "display_name": "Python 3"
    },
    "language_info": {
      "name": "python"
    },
    "accelerator": "GPU",
    "gpuClass": "premium",
    "widgets": {
      "application/vnd.jupyter.widget-state+json": {
        "d972b96f315f4125a2c9592d01dd6dae": {
          "model_module": "@jupyter-widgets/controls",
          "model_name": "HBoxModel",
          "model_module_version": "1.5.0",
          "state": {
            "_dom_classes": [],
            "_model_module": "@jupyter-widgets/controls",
            "_model_module_version": "1.5.0",
            "_model_name": "HBoxModel",
            "_view_count": null,
            "_view_module": "@jupyter-widgets/controls",
            "_view_module_version": "1.5.0",
            "_view_name": "HBoxView",
            "box_style": "",
            "children": [
              "IPY_MODEL_4cd716489967469cacf54736b325f1f8",
              "IPY_MODEL_63a6259f997f4593814d276db13c8abc",
              "IPY_MODEL_35b614982c9645f08c151e46ca83a35f"
            ],
            "layout": "IPY_MODEL_829a7fbdb5ab4d6cb6278c754133f57f"
          }
        },
        "4cd716489967469cacf54736b325f1f8": {
          "model_module": "@jupyter-widgets/controls",
          "model_name": "HTMLModel",
          "model_module_version": "1.5.0",
          "state": {
            "_dom_classes": [],
            "_model_module": "@jupyter-widgets/controls",
            "_model_module_version": "1.5.0",
            "_model_name": "HTMLModel",
            "_view_count": null,
            "_view_module": "@jupyter-widgets/controls",
            "_view_module_version": "1.5.0",
            "_view_name": "HTMLView",
            "description": "",
            "description_tooltip": null,
            "layout": "IPY_MODEL_98a8ba7ca4c5405e9633d2eec785cf07",
            "placeholder": "​",
            "style": "IPY_MODEL_8f80219abb484535a5c879db97182a2d",
            "value": "100%"
          }
        },
        "63a6259f997f4593814d276db13c8abc": {
          "model_module": "@jupyter-widgets/controls",
          "model_name": "FloatProgressModel",
          "model_module_version": "1.5.0",
          "state": {
            "_dom_classes": [],
            "_model_module": "@jupyter-widgets/controls",
            "_model_module_version": "1.5.0",
            "_model_name": "FloatProgressModel",
            "_view_count": null,
            "_view_module": "@jupyter-widgets/controls",
            "_view_module_version": "1.5.0",
            "_view_name": "ProgressView",
            "bar_style": "success",
            "description": "",
            "description_tooltip": null,
            "layout": "IPY_MODEL_c5f3c7fa02a948b89fbe688df64f30c2",
            "max": 170498071,
            "min": 0,
            "orientation": "horizontal",
            "style": "IPY_MODEL_c9f3c0b248b44d34b9bbdf1dd7bd4eaa",
            "value": 170498071
          }
        },
        "35b614982c9645f08c151e46ca83a35f": {
          "model_module": "@jupyter-widgets/controls",
          "model_name": "HTMLModel",
          "model_module_version": "1.5.0",
          "state": {
            "_dom_classes": [],
            "_model_module": "@jupyter-widgets/controls",
            "_model_module_version": "1.5.0",
            "_model_name": "HTMLModel",
            "_view_count": null,
            "_view_module": "@jupyter-widgets/controls",
            "_view_module_version": "1.5.0",
            "_view_name": "HTMLView",
            "description": "",
            "description_tooltip": null,
            "layout": "IPY_MODEL_de6cf30774954dc1850f24d59f11f53b",
            "placeholder": "​",
            "style": "IPY_MODEL_00abd988060e4010888e5da00eff859f",
            "value": " 170498071/170498071 [00:14&lt;00:00, 13532730.07it/s]"
          }
        },
        "829a7fbdb5ab4d6cb6278c754133f57f": {
          "model_module": "@jupyter-widgets/base",
          "model_name": "LayoutModel",
          "model_module_version": "1.2.0",
          "state": {
            "_model_module": "@jupyter-widgets/base",
            "_model_module_version": "1.2.0",
            "_model_name": "LayoutModel",
            "_view_count": null,
            "_view_module": "@jupyter-widgets/base",
            "_view_module_version": "1.2.0",
            "_view_name": "LayoutView",
            "align_content": null,
            "align_items": null,
            "align_self": null,
            "border": null,
            "bottom": null,
            "display": null,
            "flex": null,
            "flex_flow": null,
            "grid_area": null,
            "grid_auto_columns": null,
            "grid_auto_flow": null,
            "grid_auto_rows": null,
            "grid_column": null,
            "grid_gap": null,
            "grid_row": null,
            "grid_template_areas": null,
            "grid_template_columns": null,
            "grid_template_rows": null,
            "height": null,
            "justify_content": null,
            "justify_items": null,
            "left": null,
            "margin": null,
            "max_height": null,
            "max_width": null,
            "min_height": null,
            "min_width": null,
            "object_fit": null,
            "object_position": null,
            "order": null,
            "overflow": null,
            "overflow_x": null,
            "overflow_y": null,
            "padding": null,
            "right": null,
            "top": null,
            "visibility": null,
            "width": null
          }
        },
        "98a8ba7ca4c5405e9633d2eec785cf07": {
          "model_module": "@jupyter-widgets/base",
          "model_name": "LayoutModel",
          "model_module_version": "1.2.0",
          "state": {
            "_model_module": "@jupyter-widgets/base",
            "_model_module_version": "1.2.0",
            "_model_name": "LayoutModel",
            "_view_count": null,
            "_view_module": "@jupyter-widgets/base",
            "_view_module_version": "1.2.0",
            "_view_name": "LayoutView",
            "align_content": null,
            "align_items": null,
            "align_self": null,
            "border": null,
            "bottom": null,
            "display": null,
            "flex": null,
            "flex_flow": null,
            "grid_area": null,
            "grid_auto_columns": null,
            "grid_auto_flow": null,
            "grid_auto_rows": null,
            "grid_column": null,
            "grid_gap": null,
            "grid_row": null,
            "grid_template_areas": null,
            "grid_template_columns": null,
            "grid_template_rows": null,
            "height": null,
            "justify_content": null,
            "justify_items": null,
            "left": null,
            "margin": null,
            "max_height": null,
            "max_width": null,
            "min_height": null,
            "min_width": null,
            "object_fit": null,
            "object_position": null,
            "order": null,
            "overflow": null,
            "overflow_x": null,
            "overflow_y": null,
            "padding": null,
            "right": null,
            "top": null,
            "visibility": null,
            "width": null
          }
        },
        "8f80219abb484535a5c879db97182a2d": {
          "model_module": "@jupyter-widgets/controls",
          "model_name": "DescriptionStyleModel",
          "model_module_version": "1.5.0",
          "state": {
            "_model_module": "@jupyter-widgets/controls",
            "_model_module_version": "1.5.0",
            "_model_name": "DescriptionStyleModel",
            "_view_count": null,
            "_view_module": "@jupyter-widgets/base",
            "_view_module_version": "1.2.0",
            "_view_name": "StyleView",
            "description_width": ""
          }
        },
        "c5f3c7fa02a948b89fbe688df64f30c2": {
          "model_module": "@jupyter-widgets/base",
          "model_name": "LayoutModel",
          "model_module_version": "1.2.0",
          "state": {
            "_model_module": "@jupyter-widgets/base",
            "_model_module_version": "1.2.0",
            "_model_name": "LayoutModel",
            "_view_count": null,
            "_view_module": "@jupyter-widgets/base",
            "_view_module_version": "1.2.0",
            "_view_name": "LayoutView",
            "align_content": null,
            "align_items": null,
            "align_self": null,
            "border": null,
            "bottom": null,
            "display": null,
            "flex": null,
            "flex_flow": null,
            "grid_area": null,
            "grid_auto_columns": null,
            "grid_auto_flow": null,
            "grid_auto_rows": null,
            "grid_column": null,
            "grid_gap": null,
            "grid_row": null,
            "grid_template_areas": null,
            "grid_template_columns": null,
            "grid_template_rows": null,
            "height": null,
            "justify_content": null,
            "justify_items": null,
            "left": null,
            "margin": null,
            "max_height": null,
            "max_width": null,
            "min_height": null,
            "min_width": null,
            "object_fit": null,
            "object_position": null,
            "order": null,
            "overflow": null,
            "overflow_x": null,
            "overflow_y": null,
            "padding": null,
            "right": null,
            "top": null,
            "visibility": null,
            "width": null
          }
        },
        "c9f3c0b248b44d34b9bbdf1dd7bd4eaa": {
          "model_module": "@jupyter-widgets/controls",
          "model_name": "ProgressStyleModel",
          "model_module_version": "1.5.0",
          "state": {
            "_model_module": "@jupyter-widgets/controls",
            "_model_module_version": "1.5.0",
            "_model_name": "ProgressStyleModel",
            "_view_count": null,
            "_view_module": "@jupyter-widgets/base",
            "_view_module_version": "1.2.0",
            "_view_name": "StyleView",
            "bar_color": null,
            "description_width": ""
          }
        },
        "de6cf30774954dc1850f24d59f11f53b": {
          "model_module": "@jupyter-widgets/base",
          "model_name": "LayoutModel",
          "model_module_version": "1.2.0",
          "state": {
            "_model_module": "@jupyter-widgets/base",
            "_model_module_version": "1.2.0",
            "_model_name": "LayoutModel",
            "_view_count": null,
            "_view_module": "@jupyter-widgets/base",
            "_view_module_version": "1.2.0",
            "_view_name": "LayoutView",
            "align_content": null,
            "align_items": null,
            "align_self": null,
            "border": null,
            "bottom": null,
            "display": null,
            "flex": null,
            "flex_flow": null,
            "grid_area": null,
            "grid_auto_columns": null,
            "grid_auto_flow": null,
            "grid_auto_rows": null,
            "grid_column": null,
            "grid_gap": null,
            "grid_row": null,
            "grid_template_areas": null,
            "grid_template_columns": null,
            "grid_template_rows": null,
            "height": null,
            "justify_content": null,
            "justify_items": null,
            "left": null,
            "margin": null,
            "max_height": null,
            "max_width": null,
            "min_height": null,
            "min_width": null,
            "object_fit": null,
            "object_position": null,
            "order": null,
            "overflow": null,
            "overflow_x": null,
            "overflow_y": null,
            "padding": null,
            "right": null,
            "top": null,
            "visibility": null,
            "width": null
          }
        },
        "00abd988060e4010888e5da00eff859f": {
          "model_module": "@jupyter-widgets/controls",
          "model_name": "DescriptionStyleModel",
          "model_module_version": "1.5.0",
          "state": {
            "_model_module": "@jupyter-widgets/controls",
            "_model_module_version": "1.5.0",
            "_model_name": "DescriptionStyleModel",
            "_view_count": null,
            "_view_module": "@jupyter-widgets/base",
            "_view_module_version": "1.2.0",
            "_view_name": "StyleView",
            "description_width": ""
          }
        }
      }
    }
  },
  "cells": [
    {
      "cell_type": "code",
      "execution_count": 3,
      "metadata": {
        "colab": {
          "base_uri": "https://localhost:8080/"
        },
        "id": "J0oGcIElBCZo",
        "outputId": "3b7a0cad-0207-4a22-c0d9-b40011f4f0a0"
      },
      "outputs": [
        {
          "output_type": "stream",
          "name": "stdout",
          "text": [
            "Looking in indexes: https://pypi.org/simple, https://us-python.pkg.dev/colab-wheels/public/simple/\n",
            "Collecting import_ipynb\n",
            "  Downloading import_ipynb-0.1.4-py3-none-any.whl (4.1 kB)\n",
            "Requirement already satisfied: nbformat in /usr/local/lib/python3.8/dist-packages (from import_ipynb) (5.7.0)\n",
            "Requirement already satisfied: IPython in /usr/local/lib/python3.8/dist-packages (from import_ipynb) (7.9.0)\n",
            "Requirement already satisfied: backcall in /usr/local/lib/python3.8/dist-packages (from IPython->import_ipynb) (0.2.0)\n",
            "Requirement already satisfied: decorator in /usr/local/lib/python3.8/dist-packages (from IPython->import_ipynb) (4.4.2)\n",
            "Requirement already satisfied: pexpect in /usr/local/lib/python3.8/dist-packages (from IPython->import_ipynb) (4.8.0)\n",
            "Requirement already satisfied: traitlets>=4.2 in /usr/local/lib/python3.8/dist-packages (from IPython->import_ipynb) (5.6.0)\n",
            "Requirement already satisfied: pickleshare in /usr/local/lib/python3.8/dist-packages (from IPython->import_ipynb) (0.7.5)\n",
            "Requirement already satisfied: setuptools>=18.5 in /usr/local/lib/python3.8/dist-packages (from IPython->import_ipynb) (57.4.0)\n",
            "Collecting jedi>=0.10\n",
            "  Downloading jedi-0.18.2-py2.py3-none-any.whl (1.6 MB)\n",
            "\u001b[K     |████████████████████████████████| 1.6 MB 4.2 MB/s \n",
            "\u001b[?25hRequirement already satisfied: prompt-toolkit<2.1.0,>=2.0.0 in /usr/local/lib/python3.8/dist-packages (from IPython->import_ipynb) (2.0.10)\n",
            "Requirement already satisfied: pygments in /usr/local/lib/python3.8/dist-packages (from IPython->import_ipynb) (2.6.1)\n",
            "Requirement already satisfied: parso<0.9.0,>=0.8.0 in /usr/local/lib/python3.8/dist-packages (from jedi>=0.10->IPython->import_ipynb) (0.8.3)\n",
            "Requirement already satisfied: wcwidth in /usr/local/lib/python3.8/dist-packages (from prompt-toolkit<2.1.0,>=2.0.0->IPython->import_ipynb) (0.2.5)\n",
            "Requirement already satisfied: six>=1.9.0 in /usr/local/lib/python3.8/dist-packages (from prompt-toolkit<2.1.0,>=2.0.0->IPython->import_ipynb) (1.15.0)\n",
            "Requirement already satisfied: fastjsonschema in /usr/local/lib/python3.8/dist-packages (from nbformat->import_ipynb) (2.16.2)\n",
            "Requirement already satisfied: jupyter-core in /usr/local/lib/python3.8/dist-packages (from nbformat->import_ipynb) (5.1.0)\n",
            "Requirement already satisfied: jsonschema>=2.6 in /usr/local/lib/python3.8/dist-packages (from nbformat->import_ipynb) (4.3.3)\n",
            "Requirement already satisfied: attrs>=17.4.0 in /usr/local/lib/python3.8/dist-packages (from jsonschema>=2.6->nbformat->import_ipynb) (22.1.0)\n",
            "Requirement already satisfied: pyrsistent!=0.17.0,!=0.17.1,!=0.17.2,>=0.14.0 in /usr/local/lib/python3.8/dist-packages (from jsonschema>=2.6->nbformat->import_ipynb) (0.19.2)\n",
            "Requirement already satisfied: importlib-resources>=1.4.0 in /usr/local/lib/python3.8/dist-packages (from jsonschema>=2.6->nbformat->import_ipynb) (5.10.0)\n",
            "Requirement already satisfied: zipp>=3.1.0 in /usr/local/lib/python3.8/dist-packages (from importlib-resources>=1.4.0->jsonschema>=2.6->nbformat->import_ipynb) (3.11.0)\n",
            "Requirement already satisfied: platformdirs>=2.5 in /usr/local/lib/python3.8/dist-packages (from jupyter-core->nbformat->import_ipynb) (2.5.4)\n",
            "Requirement already satisfied: ptyprocess>=0.5 in /usr/local/lib/python3.8/dist-packages (from pexpect->IPython->import_ipynb) (0.7.0)\n",
            "Installing collected packages: jedi, import-ipynb\n",
            "Successfully installed import-ipynb-0.1.4 jedi-0.18.2\n",
            "Looking in indexes: https://pypi.org/simple, https://us-python.pkg.dev/colab-wheels/public/simple/\n",
            "Collecting ptflops\n",
            "  Downloading ptflops-0.6.9.tar.gz (12 kB)\n",
            "Requirement already satisfied: torch in /usr/local/lib/python3.8/dist-packages (from ptflops) (1.13.0+cu116)\n",
            "Requirement already satisfied: typing-extensions in /usr/local/lib/python3.8/dist-packages (from torch->ptflops) (4.4.0)\n",
            "Building wheels for collected packages: ptflops\n",
            "  Building wheel for ptflops (setup.py) ... \u001b[?25l\u001b[?25hdone\n",
            "  Created wheel for ptflops: filename=ptflops-0.6.9-py3-none-any.whl size=11712 sha256=9a124fbe4e1c4475b3955cdbf740209fec13f6a44fea8bfb576c26685f86df0a\n",
            "  Stored in directory: /root/.cache/pip/wheels/b6/86/d5/cf62a3571b005f91cd9accefc5e10f40214538be997198afad\n",
            "Successfully built ptflops\n",
            "Installing collected packages: ptflops\n",
            "Successfully installed ptflops-0.6.9\n",
            "Looking in indexes: https://pypi.org/simple, https://us-python.pkg.dev/colab-wheels/public/simple/\n",
            "Collecting kornia\n",
            "  Downloading kornia-0.6.8-py2.py3-none-any.whl (551 kB)\n",
            "\u001b[K     |████████████████████████████████| 551 kB 4.8 MB/s \n",
            "\u001b[?25hRequirement already satisfied: packaging in /usr/local/lib/python3.8/dist-packages (from kornia) (21.3)\n",
            "Requirement already satisfied: torch>=1.8.1 in /usr/local/lib/python3.8/dist-packages (from kornia) (1.13.0+cu116)\n",
            "Requirement already satisfied: typing-extensions in /usr/local/lib/python3.8/dist-packages (from torch>=1.8.1->kornia) (4.4.0)\n",
            "Requirement already satisfied: pyparsing!=3.0.5,>=2.0.2 in /usr/local/lib/python3.8/dist-packages (from packaging->kornia) (3.0.9)\n",
            "Installing collected packages: kornia\n",
            "Successfully installed kornia-0.6.8\n",
            "importing Jupyter notebook from utils.ipynb\n",
            "importing Jupyter notebook from networks.ipynb\n",
            "importing Jupyter notebook from reparam_module.ipynb\n"
          ]
        }
      ],
      "source": [
        "!pip install import_ipynb\n",
        "!pip install ptflops\n",
        "!pip install kornia\n",
        "import import_ipynb\n",
        "import os\n",
        "import time\n",
        "import copy\n",
        "import argparse\n",
        "import numpy as np\n",
        "import torch\n",
        "import torch.nn as nn\n",
        "from torchvision.utils import save_image, make_grid\n",
        "from ptflops import get_model_complexity_info\n",
        "from utils import get_dataset, get_network, TensorDataset\n",
        "from reparam_module import ReparamModule\n",
        "import matplotlib.pyplot as plt"
      ]
    },
    {
      "cell_type": "markdown",
      "source": [
        "**Matching Training Trajectories**"
      ],
      "metadata": {
        "id": "Ei-FcNnRBicR"
      }
    },
    {
      "cell_type": "markdown",
      "source": [
        "Hyperparameters"
      ],
      "metadata": {
        "id": "dvPFOoUhCqkc"
      }
    },
    {
      "cell_type": "code",
      "source": [
        "DATAPATH = './data'\n",
        "SAVEPATH = './'\n",
        "MODEL = 'ConvNet'\n",
        "IMAGE_PER_CLASS = 10\n",
        "EVAL_MODE = 'SS'\n",
        "TRAIN_NET_EPOCH = 20\n",
        "EVA_NET_EPOCH = 20\n",
        "BATCH_SIZE = 1024\n",
        "LR_IMG = 1000\n",
        "LR_NET = 0.01\n",
        "LR_LR = 1e-05\n",
        "NUMBER_CLASSES = 10\n",
        "ITERATIONS = 1000\n",
        "NUMBER_INITIALIZATIONS = 1\n",
        "DEVICE = torch.device('cuda:0' if torch.cuda.is_available() else 'cpu')"
      ],
      "metadata": {
        "id": "KRd-Wm3RCp8Y"
      },
      "execution_count": null,
      "outputs": []
    },
    {
      "cell_type": "markdown",
      "source": [
        "Get Trajectories"
      ],
      "metadata": {
        "id": "UFU3PMkeBy0T"
      }
    },
    {
      "cell_type": "code",
      "source": [
        "def get_trajectories(dataset_name, model_name):\n",
        "  channel, im_size, num_classes, class_names, mean, std, dst_train, dst_test, testloader = get_dataset(dataset_name, \"./data\")\n",
        "  trajectories = []\n",
        "  for i in range(NUMBER_INITIALIZATIONS):\n",
        "    model = get_network(model_name, channel, num_classes, im_size).to(DEVICE)\n",
        "    trainloader = torch.utils.data.DataLoader(dst_train, batch_size=BATCH_SIZE, shuffle=True)\n",
        "    optimizer = torch.optim.SGD(model.parameters(), lr=LR_NET)\n",
        "    trajectory = [[p.detach().cpu() for p in model.parameters()]]\n",
        "    cee = nn.CrossEntropyLoss()\n",
        "    for epoch in range(0, TRAIN_NET_EPOCH):\n",
        "      model.train()\n",
        "      train_loss = 0.\n",
        "      for data in trainloader:\n",
        "        inputs, labels = data\n",
        "        inputs = inputs.to(DEVICE)\n",
        "        labels = labels.to(DEVICE)\n",
        "        optimizer.zero_grad()\n",
        "        outputs = model(inputs)\n",
        "\n",
        "        loss = cee(outputs, labels)\n",
        "        loss.backward()\n",
        "        optimizer.step()\n",
        "        train_loss += loss.item()\n",
        "      trajectory.append([p.detach().cpu() for p in model.parameters()])\n",
        "      print(\"Epoch: {} \\tTraining Cost: {:.6f}\\t \"\n",
        "      .format(epoch, train_loss))\n",
        "    trajectories.append(trajectory)\n",
        "  return trajectories"
      ],
      "metadata": {
        "id": "by44xKcgByTs"
      },
      "execution_count": null,
      "outputs": []
    },
    {
      "cell_type": "code",
      "source": [
        "# load previous trajectorise reslut \n",
        "if not trajectories:\n",
        "  trajectories = torch.load(\"./buffer.pt\")"
      ],
      "metadata": {
        "id": "n-VaaJO31koG"
      },
      "execution_count": null,
      "outputs": []
    },
    {
      "cell_type": "code",
      "source": [
        "def evaluate(model,valid_data):\n",
        "    model.eval()\n",
        "    total = 0\n",
        "    correct = 0\n",
        "    for data in valid_data:\n",
        "        inputs, labels = data\n",
        "        inputs = inputs.to(DEVICE)\n",
        "        labels = labels.to(DEVICE)\n",
        "        output = model(inputs)\n",
        "        output = torch.argmax(output, dim=1)\n",
        "        correct += torch.sum(output == labels)\n",
        "        total += BATCH_SIZE\n",
        "    return correct / float(total)\n",
        "\n",
        "def train_and_eval(model, image_syn_eval, syn_lable, dst_test):\n",
        "  dst_train = TensorDataset(image_syn_eval, syn_lable)\n",
        "  trainloader = torch.utils.data.DataLoader(dst_train, batch_size=BATCH_SIZE, shuffle=True)\n",
        "  validLoader = torch.utils.data.DataLoader(dst_test, batch_size=BATCH_SIZE, shuffle=True)\n",
        "  optimizer = torch.optim.SGD(model.parameters(), lr=LR_NET)\n",
        "  cee = nn.CrossEntropyLoss()\n",
        "  valid_acc = 0\n",
        "  acc_save = []\n",
        "  for epoch in range(TRAIN_NET_EPOCH):\n",
        "    model.train()\n",
        "    train_loss = 0.\n",
        "    for data in trainloader:\n",
        "        inputs, labels = data\n",
        "        inputs = inputs.to(DEVICE)\n",
        "        labels = labels.to(DEVICE)\n",
        "        optimizer.zero_grad()\n",
        "        outputs = model(inputs)\n",
        "\n",
        "        loss = cee(outputs, labels)\n",
        "        loss.backward()\n",
        "        optimizer.step()\n",
        "        train_loss += loss.item()\n",
        "\n",
        "    valid_acc = evaluate(model, validLoader)\n",
        "    acc_save.append(valid_acc.item())\n",
        "    print(\"Epoch: {} \\tTraining Cost: {:.6f}\\t \"\n",
        "        \"Valid Acc: {}.\".format(epoch, train_loss, valid_acc))\n",
        "  return acc_save"
      ],
      "metadata": {
        "id": "u_-WEmgYBayp"
      },
      "execution_count": null,
      "outputs": []
    },
    {
      "cell_type": "code",
      "source": [
        "def train_and_evaluate(dataset_name, model_name, evluate_model_name, trajectories, randmon_init=False):\n",
        "  channel, im_size, num_classes, class_names, mean, std, dst_train, dst_test, testloader = get_dataset(dataset_name, DATAPATH)\n",
        "  class_index = {}\n",
        "  data_save = []\n",
        "  for i in range(len(dst_train)):\n",
        "    lable = dst_train[i][1]\n",
        "    if lable in class_index:\n",
        "      class_index[lable].append(i)\n",
        "    else:\n",
        "      class_index[lable] = [i]\n",
        "  images_all = [torch.unsqueeze(dst_train[i][0], dim=0) for i in range(len(dst_train))]\n",
        "  images_all = torch.cat(images_all, dim=0).to(DEVICE)\n",
        "  syn_image = []\n",
        "  for c in range(num_classes):\n",
        "    idx_shuffle = np.random.permutation(class_index[c])[:IMAGE_PER_CLASS]\n",
        "    syn_image.append(images_all[idx_shuffle])\n",
        "  syn_image = torch.cat(syn_image, dim=0).to(DEVICE)\n",
        "  syn_image.requires_grad = True\n",
        "  if randmon_init:\n",
        "    syn_image = torch.randn(size=(num_classes*IMAGE_PER_CLASS, channel, im_size[0], im_size[1]), dtype=torch.float, requires_grad=True, device=DEVICE)\n",
        "  \n",
        "  syn_lable = []\n",
        "  for c in range(num_classes):\n",
        "    syn_lable += [c for i in range(IMAGE_PER_CLASS)]\n",
        "  syn_lable = torch.tensor(syn_lable,device=DEVICE)\n",
        "  model = get_network(MODEL, channel, num_classes, im_size).to(DEVICE)\n",
        "  model = ReparamModule(model)\n",
        "  model.train()\n",
        "  num_params = sum([np.prod(p.size()) for p in (model.parameters())])\n",
        "  syn_lr = torch.tensor(LR_NET).to(DEVICE).requires_grad_(True)\n",
        "  optimizer_img = torch.optim.SGD([syn_image], lr=LR_IMG, momentum=0.5)\n",
        "  optimizer_lr = torch.optim.SGD([syn_lr], lr=LR_LR, momentum=0.5)\n",
        "  optimizer_img.zero_grad()\n",
        "  cee = nn.CrossEntropyLoss().to(DEVICE)\n",
        "  trainloader = torch.utils.data.DataLoader(dst_train, batch_size=BATCH_SIZE, shuffle=True)\n",
        "  for it in range(ITERATIONS):\n",
        "    tj = trajectories[np.random.randint(0, len(trajectories))]\n",
        "    start_epoch = np.random.randint(0, 4)\n",
        "    starting_params = tj[start_epoch]\n",
        "    target_params = tj[start_epoch + 3]\n",
        "    target_params = torch.cat([p.data.to(DEVICE).reshape(-1) for p in target_params], 0)\n",
        "    student_params = [torch.cat([p.data.to(DEVICE).reshape(-1) for p in starting_params], 0).requires_grad_(True)]\n",
        "    starting_params = torch.cat([p.data.to(DEVICE).reshape(-1) for p in starting_params], 0)\n",
        "\n",
        "    indices_chunks = []\n",
        "    for epoch in range(20):\n",
        "      if not indices_chunks:\n",
        "        indices = torch.randperm(IMAGE_PER_CLASS*num_classes)\n",
        "        indices_chunks = list(torch.split(indices, IMAGE_PER_CLASS))\n",
        "\n",
        "      these_indices = indices_chunks.pop()\n",
        "\n",
        "      image = syn_image[these_indices]\n",
        "      lable = syn_lable[these_indices]\n",
        "      forward_params = student_params[-1]\n",
        "      output = model(image, flat_param=forward_params)\n",
        "      ce_loss = cee(output, lable)\n",
        "      grad = torch.autograd.grad(ce_loss, student_params[-1], create_graph=True)[0]\n",
        "      student_params.append(student_params[-1] - syn_lr * grad)\n",
        "\n",
        "    param_loss = torch.tensor(0.0).to(DEVICE)\n",
        "    param_dist = torch.tensor(0.0).to(DEVICE)\n",
        "\n",
        "    param_loss += torch.nn.functional.mse_loss(student_params[-1], target_params, reduction=\"sum\")\n",
        "    param_dist += torch.nn.functional.mse_loss(starting_params, target_params, reduction=\"sum\")\n",
        "\n",
        "\n",
        "    param_loss /= num_params\n",
        "    param_dist /= num_params\n",
        "\n",
        "    param_loss /= param_dist\n",
        "\n",
        "    grand_loss = param_loss\n",
        "\n",
        "    optimizer_img.zero_grad()\n",
        "    optimizer_lr.zero_grad()\n",
        "\n",
        "    grand_loss.backward()\n",
        "\n",
        "    optimizer_img.step()\n",
        "    optimizer_lr.step()\n",
        "  save_name = os.path.join(SAVEPATH, 'vis_%s_%s_%s_%d.png'%(MODEL, dataset_name, randmon_init, IMAGE_PER_CLASS))\n",
        "  image_syn_vis = copy.deepcopy(syn_image.detach().cpu())\n",
        "  save_image(image_syn_vis, save_name, nrow=IMAGE_PER_CLASS)\n",
        "  net_eval = get_network(evluate_model_name, channel, num_classes, im_size).to(DEVICE)\n",
        "  image_syn_eval = copy.deepcopy(syn_image.detach())\n",
        "\n",
        "  acc_test = train_and_eval(net_eval, image_syn_eval, syn_lable, dst_test)\n",
        "  return acc_test"
      ],
      "metadata": {
        "id": "QGb8Ekc9BaPl"
      },
      "execution_count": null,
      "outputs": []
    },
    {
      "cell_type": "markdown",
      "source": [
        "Here you can either load trajectories file I give or generate a new trajectories"
      ],
      "metadata": {
        "id": "n_ihykSj9Dz7"
      }
    },
    {
      "cell_type": "code",
      "source": [
        "trajectories = torch.load(\"./MNIST_tj.pt\")"
      ],
      "metadata": {
        "id": "jf_R_7OdCta7"
      },
      "execution_count": null,
      "outputs": []
    },
    {
      "cell_type": "code",
      "source": [
        "trajectories = torch.load(\"./CIFAR10_tj.pt\")"
      ],
      "metadata": {
        "id": "-exfWDSNXtQ3"
      },
      "execution_count": null,
      "outputs": []
    },
    {
      "cell_type": "code",
      "source": [
        "trajectories = get_trajectories(\"MNIST\", \"ConvNet\")"
      ],
      "metadata": {
        "id": "i58Qx8fe9BZo"
      },
      "execution_count": null,
      "outputs": []
    },
    {
      "cell_type": "code",
      "source": [
        "trajectories = get_trajectories(\"CIFAR10\", \"ConvNet\")"
      ],
      "metadata": {
        "id": "W3BrlnuQDB-F"
      },
      "execution_count": null,
      "outputs": []
    },
    {
      "cell_type": "code",
      "source": [
        "MCCT=train_and_evaluate(\"MNIST\", \"ConvNet\", \"ConvNet\", trajectories, True)\n",
        "MCCF=train_and_evaluate(\"MNIST\", \"ConvNet\", \"ConvNet\", trajectories, False)"
      ],
      "metadata": {
        "colab": {
          "base_uri": "https://localhost:8080/"
        },
        "id": "HnAdaxRebgRm",
        "outputId": "64cf8989-e4fb-449f-ef98-e336e087928e"
      },
      "execution_count": null,
      "outputs": [
        {
          "output_type": "stream",
          "name": "stdout",
          "text": [
            "Epoch: 0 \tTraining Cost: 2.340817\t Valid Acc: 0.17265625298023224.\n",
            "Epoch: 1 \tTraining Cost: 2.261118\t Valid Acc: 0.2588867247104645.\n",
            "Epoch: 2 \tTraining Cost: 2.194610\t Valid Acc: 0.3797851502895355.\n",
            "Epoch: 3 \tTraining Cost: 2.132801\t Valid Acc: 0.4751953184604645.\n",
            "Epoch: 4 \tTraining Cost: 2.074114\t Valid Acc: 0.52587890625.\n",
            "Epoch: 5 \tTraining Cost: 2.017833\t Valid Acc: 0.570019543170929.\n",
            "Epoch: 6 \tTraining Cost: 1.964007\t Valid Acc: 0.6039062738418579.\n",
            "Epoch: 7 \tTraining Cost: 1.911662\t Valid Acc: 0.6307617425918579.\n",
            "Epoch: 8 \tTraining Cost: 1.860553\t Valid Acc: 0.654003918170929.\n",
            "Epoch: 9 \tTraining Cost: 1.810524\t Valid Acc: 0.679003894329071.\n",
            "Epoch: 10 \tTraining Cost: 1.761585\t Valid Acc: 0.6963867545127869.\n",
            "Epoch: 11 \tTraining Cost: 1.713649\t Valid Acc: 0.71484375.\n",
            "Epoch: 12 \tTraining Cost: 1.666393\t Valid Acc: 0.7293945550918579.\n",
            "Epoch: 13 \tTraining Cost: 1.620064\t Valid Acc: 0.7442383170127869.\n",
            "Epoch: 14 \tTraining Cost: 1.574718\t Valid Acc: 0.758105456829071.\n",
            "Epoch: 15 \tTraining Cost: 1.530053\t Valid Acc: 0.76904296875.\n",
            "Epoch: 16 \tTraining Cost: 1.486211\t Valid Acc: 0.779296875.\n",
            "Epoch: 17 \tTraining Cost: 1.443311\t Valid Acc: 0.790234386920929.\n",
            "Epoch: 18 \tTraining Cost: 1.401029\t Valid Acc: 0.798632800579071.\n",
            "Epoch: 19 \tTraining Cost: 1.359482\t Valid Acc: 0.808300793170929.\n",
            "Epoch: 0 \tTraining Cost: 2.335259\t Valid Acc: 0.20468750596046448.\n",
            "Epoch: 1 \tTraining Cost: 2.241863\t Valid Acc: 0.3458007872104645.\n",
            "Epoch: 2 \tTraining Cost: 2.168932\t Valid Acc: 0.4501953125.\n",
            "Epoch: 3 \tTraining Cost: 2.103812\t Valid Acc: 0.4976562559604645.\n",
            "Epoch: 4 \tTraining Cost: 2.043761\t Valid Acc: 0.529101550579071.\n",
            "Epoch: 5 \tTraining Cost: 1.986937\t Valid Acc: 0.5614258050918579.\n",
            "Epoch: 6 \tTraining Cost: 1.933356\t Valid Acc: 0.592089831829071.\n",
            "Epoch: 7 \tTraining Cost: 1.882152\t Valid Acc: 0.6190429925918579.\n",
            "Epoch: 8 \tTraining Cost: 1.832972\t Valid Acc: 0.639843761920929.\n",
            "Epoch: 9 \tTraining Cost: 1.785219\t Valid Acc: 0.664746105670929.\n",
            "Epoch: 10 \tTraining Cost: 1.738569\t Valid Acc: 0.683300793170929.\n",
            "Epoch: 11 \tTraining Cost: 1.692747\t Valid Acc: 0.698437511920929.\n",
            "Epoch: 12 \tTraining Cost: 1.647951\t Valid Acc: 0.7147461175918579.\n",
            "Epoch: 13 \tTraining Cost: 1.604013\t Valid Acc: 0.730273425579071.\n",
            "Epoch: 14 \tTraining Cost: 1.560895\t Valid Acc: 0.7451171875.\n",
            "Epoch: 15 \tTraining Cost: 1.518527\t Valid Acc: 0.75830078125.\n",
            "Epoch: 16 \tTraining Cost: 1.476875\t Valid Acc: 0.769824206829071.\n",
            "Epoch: 17 \tTraining Cost: 1.435712\t Valid Acc: 0.781445324420929.\n",
            "Epoch: 18 \tTraining Cost: 1.395228\t Valid Acc: 0.793261706829071.\n",
            "Epoch: 19 \tTraining Cost: 1.355472\t Valid Acc: 0.802050769329071.\n"
          ]
        }
      ]
    },
    {
      "cell_type": "code",
      "source": [
        "val_acc_list_CIFAR_ConvNet_real=[0.45917969942092896, 0.4945312440395355, 0.548535168170929, 0.589550793170929, 0.6084961295127869, 0.612500011920929, 0.6548828482627869, 0.6435546875, 0.65087890625, 0.674023449420929, 0.6742187738418579, 0.646777331829071, 0.692187488079071, 0.699023425579071, 0.653027355670929, 0.69384765625, 0.703906238079071, 0.687304675579071, 0.7125000357627869, 0.7110351920127869]\n",
        "val_acc_list_MNIST_ConvNet_real=[0.9393554925918579, 0.951953113079071, 0.957324206829071, 0.959277331829071, 0.962109386920929, 0.963085949420929, 0.9632812738418579, 0.962597668170929, 0.964160144329071, 0.9664062857627869, 0.9654297232627869, 0.966796875, 0.9375976920127869, 0.9676758050918579, 0.96533203125, 0.9681640863418579, 0.96728515625, 0.968945324420929, 0.9671875238418579, 0.968945324420929]\n",
        "\n",
        "x_axis=list(range(1,TRAIN_NET_EPOCH+1))\n",
        "plt.plot(x_axis,val_acc_list_MNIST_ConvNet_real,'--bo', label='Model Accuracy Trained from Real MNIST')\n",
        "plt.plot(x_axis,MCCF,'--go', label='Model Accuracy Trained from Synthetic MNIST')\n",
        "plt.plot(x_axis,MCCT,'--ro', label='Model Accuracy Trained from Noisy Synthetic MNIST')\n",
        "plt.xticks(range(1,TRAIN_NET_EPOCH+1))\n",
        "plt.legend()\n",
        "plt.xlim((1,TRAIN_NET_EPOCH))\n",
        "plt.ylim((0,1))\n",
        "plt.title(\"Matching trajectories,Test accuracy vs epoch\")\n",
        "plt.ylabel(\"test accuracy\")\n",
        "plt.xlabel(\"epoch\")\n",
        "plt.savefig(\"mnist_compare\")\n",
        "plt.show()"
      ],
      "metadata": {
        "colab": {
          "base_uri": "https://localhost:8080/",
          "height": 295
        },
        "id": "wGZ_IXUhHykI",
        "outputId": "06e6ef1e-0c15-4501-e5bf-3fc1e49cb4bc"
      },
      "execution_count": null,
      "outputs": [
        {
          "output_type": "display_data",
          "data": {
            "text/plain": [
              "<Figure size 432x288 with 1 Axes>"
            ],
            "image/png": "[encoded data removed]"
          },
          "metadata": {
            "needs_background": "light"
          }
        }
      ]
    },
    {
      "cell_type": "code",
      "source": [
        "CCCT=train_and_evaluate(\"CIFAR10\", \"ConvNet\", \"ConvNet\", trajectories, True)\n",
        "CCCF=train_and_evaluate(\"CIFAR10\", \"ConvNet\", \"ConvNet\", trajectories, False)"
      ],
      "metadata": {
        "colab": {
          "base_uri": "https://localhost:8080/",
          "height": 850,
          "referenced_widgets": [
            "d972b96f315f4125a2c9592d01dd6dae",
            "4cd716489967469cacf54736b325f1f8",
            "63a6259f997f4593814d276db13c8abc",
            "35b614982c9645f08c151e46ca83a35f",
            "829a7fbdb5ab4d6cb6278c754133f57f",
            "98a8ba7ca4c5405e9633d2eec785cf07",
            "8f80219abb484535a5c879db97182a2d",
            "c5f3c7fa02a948b89fbe688df64f30c2",
            "c9f3c0b248b44d34b9bbdf1dd7bd4eaa",
            "de6cf30774954dc1850f24d59f11f53b",
            "00abd988060e4010888e5da00eff859f"
          ]
        },
        "id": "_LymNTBTCAPL",
        "outputId": "3f0b8184-afdd-4a56-b007-5dba5b27914b"
      },
      "execution_count": null,
      "outputs": [
        {
          "output_type": "stream",
          "name": "stdout",
          "text": [
            "Downloading https://www.cs.toronto.edu/~kriz/cifar-10-python.tar.gz to ./data/cifar-10-python.tar.gz\n"
          ]
        },
        {
          "output_type": "display_data",
          "data": {
            "text/plain": [
              "  0%|          | 0/170498071 [00:00<?, ?it/s]"
            ],
            "application/vnd.jupyter.widget-view+json": {
              "version_major": 2,
              "version_minor": 0,
              "model_id": "d972b96f315f4125a2c9592d01dd6dae"
            }
          },
          "metadata": {}
        },
        {
          "output_type": "stream",
          "name": "stdout",
          "text": [
            "Extracting ./data/cifar-10-python.tar.gz to ./data\n",
            "Files already downloaded and verified\n",
            "Epoch: 0 \tTraining Cost: 2.364705\t Valid Acc: 0.10615234822034836.\n",
            "Epoch: 1 \tTraining Cost: 2.290199\t Valid Acc: 0.11806640774011612.\n",
            "Epoch: 2 \tTraining Cost: 2.229358\t Valid Acc: 0.12871094048023224.\n",
            "Epoch: 3 \tTraining Cost: 2.174900\t Valid Acc: 0.13916015625.\n",
            "Epoch: 4 \tTraining Cost: 2.123770\t Valid Acc: 0.14921875298023224.\n",
            "Epoch: 5 \tTraining Cost: 2.074607\t Valid Acc: 0.16044922173023224.\n",
            "Epoch: 6 \tTraining Cost: 2.026788\t Valid Acc: 0.17041015625.\n",
            "Epoch: 7 \tTraining Cost: 1.980136\t Valid Acc: 0.18173828721046448.\n",
            "Epoch: 8 \tTraining Cost: 1.934586\t Valid Acc: 0.19160155951976776.\n",
            "Epoch: 9 \tTraining Cost: 1.889997\t Valid Acc: 0.20351563394069672.\n",
            "Epoch: 10 \tTraining Cost: 1.846418\t Valid Acc: 0.21376954019069672.\n",
            "Epoch: 11 \tTraining Cost: 1.803829\t Valid Acc: 0.22216796875.\n",
            "Epoch: 12 \tTraining Cost: 1.762177\t Valid Acc: 0.23076172173023224.\n",
            "Epoch: 13 \tTraining Cost: 1.721284\t Valid Acc: 0.23984375596046448.\n",
            "Epoch: 14 \tTraining Cost: 1.681217\t Valid Acc: 0.24570313096046448.\n",
            "Epoch: 15 \tTraining Cost: 1.642014\t Valid Acc: 0.2529296875.\n",
            "Epoch: 16 \tTraining Cost: 1.603504\t Valid Acc: 0.2587890625.\n",
            "Epoch: 17 \tTraining Cost: 1.565685\t Valid Acc: 0.26396486163139343.\n",
            "Epoch: 18 \tTraining Cost: 1.528595\t Valid Acc: 0.2694335877895355.\n",
            "Epoch: 19 \tTraining Cost: 1.492133\t Valid Acc: 0.2738281190395355.\n",
            "Files already downloaded and verified\n",
            "Files already downloaded and verified\n",
            "Epoch: 0 \tTraining Cost: 2.314637\t Valid Acc: 0.12265624850988388.\n",
            "Epoch: 1 \tTraining Cost: 2.245479\t Valid Acc: 0.1337890625.\n",
            "Epoch: 2 \tTraining Cost: 2.187019\t Valid Acc: 0.14433594048023224.\n",
            "Epoch: 3 \tTraining Cost: 2.133182\t Valid Acc: 0.15742187201976776.\n",
            "Epoch: 4 \tTraining Cost: 2.082369\t Valid Acc: 0.17050781846046448.\n",
            "Epoch: 5 \tTraining Cost: 2.033826\t Valid Acc: 0.18193359673023224.\n",
            "Epoch: 6 \tTraining Cost: 1.987052\t Valid Acc: 0.19169922173023224.\n",
            "Epoch: 7 \tTraining Cost: 1.941834\t Valid Acc: 0.20000000298023224.\n",
            "Epoch: 8 \tTraining Cost: 1.898173\t Valid Acc: 0.20664063096046448.\n",
            "Epoch: 9 \tTraining Cost: 1.855891\t Valid Acc: 0.21494141221046448.\n",
            "Epoch: 10 \tTraining Cost: 1.814753\t Valid Acc: 0.22216796875.\n",
            "Epoch: 11 \tTraining Cost: 1.774723\t Valid Acc: 0.22783203423023224.\n",
            "Epoch: 12 \tTraining Cost: 1.735646\t Valid Acc: 0.23525391519069672.\n",
            "Epoch: 13 \tTraining Cost: 1.697364\t Valid Acc: 0.23974609375.\n",
            "Epoch: 14 \tTraining Cost: 1.659952\t Valid Acc: 0.24638672173023224.\n",
            "Epoch: 15 \tTraining Cost: 1.623269\t Valid Acc: 0.25312501192092896.\n",
            "Epoch: 16 \tTraining Cost: 1.587333\t Valid Acc: 0.2603515684604645.\n",
            "Epoch: 17 \tTraining Cost: 1.552079\t Valid Acc: 0.2666992247104645.\n",
            "Epoch: 18 \tTraining Cost: 1.517520\t Valid Acc: 0.27197265625.\n",
            "Epoch: 19 \tTraining Cost: 1.483537\t Valid Acc: 0.27685546875.\n"
          ]
        }
      ]
    },
    {
      "cell_type": "markdown",
      "source": [
        "Distribution matching"
      ],
      "metadata": {
        "id": "4uJc59-W26wr"
      }
    },
    {
      "cell_type": "code",
      "source": [
        "DATAPATH = './data'\n",
        "SAVEPATH = './'\n",
        "MODEL = 'ConvNet'\n",
        "IMAGE_PER_CLASS = 10\n",
        "EVAL_MODE = 'SS'\n",
        "TRAIN_NET_EPOCH = 20\n",
        "BATCH_SIZE = 20\n",
        "LR_IMG = 0.1\n",
        "LR_NET = 0.01\n",
        "NUMBER_CLASSES = 10\n",
        "ITERATIONS = 10\n",
        "NUMBER_INITIALIZATIONS = 100\n",
        "NUMBER_STEP_OPT = 20\n",
        "DEVICE = torch.device('cuda:0' if torch.cuda.is_available() else 'cpu')"
      ],
      "metadata": {
        "id": "SD3fsHdH26SR"
      },
      "execution_count": 5,
      "outputs": []
    },
    {
      "cell_type": "code",
      "source": [
        "\n",
        "\n",
        "def train_and_eval(model, image_syn_eval, syn_lable, dst_test):\n",
        "  dst_train = TensorDataset(image_syn_eval, syn_lable)\n",
        "  trainloader = torch.utils.data.DataLoader(dst_train, batch_size=BATCH_SIZE, shuffle=True)\n",
        "  validLoader = torch.utils.data.DataLoader(dst_test, batch_size=BATCH_SIZE, shuffle=True)\n",
        "  optimizer = torch.optim.SGD(model.parameters(), lr=LR_NET)\n",
        "  cee = nn.CrossEntropyLoss()\n",
        "  valid_accs = []\n",
        "  for epoch in range(TRAIN_NET_EPOCH):\n",
        "    model.train()\n",
        "    train_loss = 0.\n",
        "\n",
        "    for data in trainloader:\n",
        "        inputs, labels = data\n",
        "        inputs = inputs.to(DEVICE)\n",
        "        labels = labels.to(DEVICE)\n",
        "        optimizer.zero_grad()\n",
        "        outputs = model(inputs)\n",
        "\n",
        "        loss = cee(outputs, labels)\n",
        "        loss.backward()\n",
        "        optimizer.step()\n",
        "        train_loss += loss.item()\n",
        "\n",
        "    valid_acc = evaluate(model, validLoader)\n",
        "    valid_accs.append(valid_acc)\n",
        "    print(\"Epoch: {} \\tTraining Cost: {:.6f}\\t \"\n",
        "        \"Valid Acc: {}.\".format(epoch, train_loss, valid_acc))\n",
        "  return valid_accs\n",
        "\n",
        "def evaluate(model,valid_data):\n",
        "    model.eval()\n",
        "    total = 0\n",
        "    correct = 0\n",
        "    for data in valid_data:\n",
        "        inputs, labels = data\n",
        "        inputs = inputs.to(DEVICE)\n",
        "        labels = labels.to(DEVICE)\n",
        "        output = model(inputs)\n",
        "        output = torch.argmax(output, dim=1)\n",
        "        correct += torch.sum(output == labels)\n",
        "        total += BATCH_SIZE\n",
        "    return correct / float(total)\n",
        "\n",
        "def train_model(model, image_syn_eval, syn_lable, epochs):\n",
        "  dst_train = TensorDataset(image_syn_eval, syn_lable)\n",
        "  trainloader = torch.utils.data.DataLoader(dst_train, batch_size=BATCH_SIZE, shuffle=True)\n",
        "  optimizer = torch.optim.SGD(model.parameters(), lr=LR_NET)\n",
        "  cee = nn.CrossEntropyLoss()\n",
        "  for e in range(epochs):\n",
        "    model.train()\n",
        "    train_loss = 0.\n",
        "\n",
        "    for data in trainloader:\n",
        "        inputs, labels = data\n",
        "        inputs = inputs.to(DEVICE)\n",
        "        labels = labels.to(DEVICE)\n",
        "        optimizer.zero_grad()\n",
        "        outputs = model(inputs)\n",
        "\n",
        "        loss = cee(outputs, labels)\n",
        "        loss.backward()\n",
        "        optimizer.step()\n",
        "\n",
        "def loss_function(img_real, img_syn):\n",
        "  return torch.sum((torch.mean(img_real, dim=0) - torch.mean(img_syn, dim=0))**2)\n",
        "\n",
        "def train_synthetic_data(model, img_all, syn_image, num_class, iterations, class_index):\n",
        "  optimizer_img = torch.optim.SGD([syn_image, ], lr=LR_IMG)\n",
        "  total_loss = 0 \n",
        "  for it in range(ITERATIONS):\n",
        "    loss = torch.tensor(0.0).to(DEVICE)\n",
        "    \n",
        "    for c in range(num_class):\n",
        "      strat_index = c*IMAGE_PER_CLASS\n",
        "      img_real = img_all[np.random.permutation(class_index[c])[:IMAGE_PER_CLASS]]\n",
        "      image_syn = syn_image[strat_index: strat_index + IMAGE_PER_CLASS]\n",
        "      output_syn = model.embed(image_syn)\n",
        "      output_real = model.embed(img_real).detach()\n",
        "      loss += loss_function(output_syn, output_real)\n",
        "    total_loss += loss\n",
        "    optimizer_img.zero_grad()\n",
        "    loss.backward()\n",
        "    optimizer_img.step()\n",
        "  return total_loss/iterations\n",
        "\n",
        "def condensed_images_and_evaluate(dataset_name, model_name, eval_mode_name, randmon_init=False):\n",
        "  channel, im_size, num_classes, class_names, mean, std, dst_train, dst_test, testloader = get_dataset(dataset_name, DATAPATH)\n",
        "  class_index = {}\n",
        "  data_save = []\n",
        "  for i in range(len(dst_train)):\n",
        "    lable = dst_train[i][1]\n",
        "    if lable in class_index:\n",
        "      class_index[lable].append(i)\n",
        "    else:\n",
        "      class_index[lable] = [i]\n",
        "  images_all = [torch.unsqueeze(dst_train[i][0], dim=0) for i in range(len(dst_train))]\n",
        "  images_all = torch.cat(images_all, dim=0).to(DEVICE)\n",
        "  syn_image = []\n",
        "  for c in range(num_classes):\n",
        "    idx_shuffle = np.random.permutation(class_index[c])[:IMAGE_PER_CLASS]\n",
        "    syn_image.append(images_all[idx_shuffle])\n",
        "  syn_image = torch.cat(syn_image, dim=0).to(DEVICE)\n",
        "  syn_image.requires_grad = True\n",
        "  syn_lable = []\n",
        "  for c in range(num_classes):\n",
        "    syn_lable += [c for i in range(IMAGE_PER_CLASS)]\n",
        "  syn_lable = torch.tensor(syn_lable,device=DEVICE)\n",
        "  if randmon_init:\n",
        "    syn_image = torch.randn(size=(num_classes*IMAGE_PER_CLASS, channel, im_size[0], im_size[1]), dtype=torch.float, requires_grad=True, device=DEVICE)\n",
        "  for exp in range(NUMBER_INITIALIZATIONS):\n",
        "    model = get_network(model_name, channel, num_classes, im_size).to(DEVICE)\n",
        "    model.train()\n",
        "    train_synthetic_data(model, images_all, syn_image, num_classes, ITERATIONS, class_index)\n",
        "      \n",
        "  random = \"Gaussian noise\" if randmon_init else \"real training images\"\n",
        "  save_name = os.path.join(SAVEPATH, 'vis_%s_%s_%s_%d.png'%(model_name, dataset_name, random, IMAGE_PER_CLASS))\n",
        "  image_syn_vis = copy.deepcopy(syn_image.detach().cpu())\n",
        "  save_image(image_syn_vis, save_name, nrow=IMAGE_PER_CLASS)\n",
        "  make_grid(image_syn_vis, nrow=IMAGE_PER_CLASS)\n",
        "  net_eval = get_network(eval_mode_name, channel, num_classes, im_size).to(DEVICE)\n",
        "  image_syn_eval = copy.deepcopy(syn_image.detach())\n",
        "\n",
        "  acc_test = train_and_eval(net_eval, image_syn_eval, syn_lable, dst_test)"
      ],
      "metadata": {
        "id": "NMEdLX1z3JyU"
      },
      "execution_count": 9,
      "outputs": []
    },
    {
      "cell_type": "code",
      "source": [
        "condensed_images_and_evaluate(\"MNIST\", \"ConvNet\", \"ConvNet\", True)"
      ],
      "metadata": {
        "id": "kS4jlqmx3tNS",
        "colab": {
          "base_uri": "https://localhost:8080/"
        },
        "outputId": "3f4330c0-2537-49b4-9913-44533d944a98"
      },
      "execution_count": 10,
      "outputs": [
        {
          "output_type": "stream",
          "name": "stdout",
          "text": [
            "Epoch: 0 \tTraining Cost: 12.079541\t Valid Acc: 0.2418999969959259.\n",
            "Epoch: 1 \tTraining Cost: 10.889627\t Valid Acc: 0.27789998054504395.\n",
            "Epoch: 2 \tTraining Cost: 10.006436\t Valid Acc: 0.5163999795913696.\n",
            "Epoch: 3 \tTraining Cost: 9.107571\t Valid Acc: 0.5516999959945679.\n",
            "Epoch: 4 \tTraining Cost: 8.624026\t Valid Acc: 0.46769997477531433.\n",
            "Epoch: 5 \tTraining Cost: 8.121030\t Valid Acc: 0.517300009727478.\n",
            "Epoch: 6 \tTraining Cost: 7.152822\t Valid Acc: 0.5209999680519104.\n",
            "Epoch: 7 \tTraining Cost: 6.610772\t Valid Acc: 0.6782000064849854.\n",
            "Epoch: 8 \tTraining Cost: 6.019576\t Valid Acc: 0.6832000017166138.\n",
            "Epoch: 9 \tTraining Cost: 5.907747\t Valid Acc: 0.6588000059127808.\n",
            "Epoch: 10 \tTraining Cost: 5.088057\t Valid Acc: 0.699400007724762.\n",
            "Epoch: 11 \tTraining Cost: 5.088383\t Valid Acc: 0.7249999642372131.\n",
            "Epoch: 12 \tTraining Cost: 4.472686\t Valid Acc: 0.7033999562263489.\n",
            "Epoch: 13 \tTraining Cost: 4.085270\t Valid Acc: 0.7303000092506409.\n",
            "Epoch: 14 \tTraining Cost: 3.774598\t Valid Acc: 0.7078999876976013.\n",
            "Epoch: 15 \tTraining Cost: 3.435143\t Valid Acc: 0.7368999719619751.\n",
            "Epoch: 16 \tTraining Cost: 3.193498\t Valid Acc: 0.7091000080108643.\n",
            "Epoch: 17 \tTraining Cost: 2.962718\t Valid Acc: 0.7379999756813049.\n",
            "Epoch: 18 \tTraining Cost: 2.748168\t Valid Acc: 0.7321999669075012.\n",
            "Epoch: 19 \tTraining Cost: 2.469971\t Valid Acc: 0.7343999743461609.\n"
          ]
        }
      ]
    },
    {
      "cell_type": "code",
      "source": [
        "condensed_images_and_evaluate(\"MNIST\", \"ConvNet\", \"ConvNet\")"
      ],
      "metadata": {
        "id": "DlgOQLir3wXG",
        "colab": {
          "base_uri": "https://localhost:8080/"
        },
        "outputId": "e40e14f6-64c7-44a3-8009-a3ca440d1994"
      },
      "execution_count": 11,
      "outputs": [
        {
          "output_type": "stream",
          "name": "stdout",
          "text": [
            "Epoch: 0 \tTraining Cost: 11.453368\t Valid Acc: 0.26499998569488525.\n",
            "Epoch: 1 \tTraining Cost: 9.340059\t Valid Acc: 0.48009997606277466.\n",
            "Epoch: 2 \tTraining Cost: 8.107704\t Valid Acc: 0.5532999634742737.\n",
            "Epoch: 3 \tTraining Cost: 7.070531\t Valid Acc: 0.5722000002861023.\n",
            "Epoch: 4 \tTraining Cost: 6.274439\t Valid Acc: 0.6864999532699585.\n",
            "Epoch: 5 \tTraining Cost: 5.391182\t Valid Acc: 0.7378999590873718.\n",
            "Epoch: 6 \tTraining Cost: 4.833286\t Valid Acc: 0.8086000084877014.\n",
            "Epoch: 7 \tTraining Cost: 4.220173\t Valid Acc: 0.8337999582290649.\n",
            "Epoch: 8 \tTraining Cost: 3.732135\t Valid Acc: 0.8295999765396118.\n",
            "Epoch: 9 \tTraining Cost: 3.429998\t Valid Acc: 0.8264999985694885.\n",
            "Epoch: 10 \tTraining Cost: 3.041802\t Valid Acc: 0.8628000020980835.\n",
            "Epoch: 11 \tTraining Cost: 2.687205\t Valid Acc: 0.8623999953269958.\n",
            "Epoch: 12 \tTraining Cost: 2.570845\t Valid Acc: 0.8834999799728394.\n",
            "Epoch: 13 \tTraining Cost: 2.196738\t Valid Acc: 0.8750999569892883.\n",
            "Epoch: 14 \tTraining Cost: 2.005292\t Valid Acc: 0.8727999925613403.\n",
            "Epoch: 15 \tTraining Cost: 1.777203\t Valid Acc: 0.887999951839447.\n",
            "Epoch: 16 \tTraining Cost: 1.591908\t Valid Acc: 0.9006999731063843.\n",
            "Epoch: 17 \tTraining Cost: 1.594024\t Valid Acc: 0.8920999765396118.\n",
            "Epoch: 18 \tTraining Cost: 1.363831\t Valid Acc: 0.9039999842643738.\n",
            "Epoch: 19 \tTraining Cost: 1.303203\t Valid Acc: 0.9067999720573425.\n"
          ]
        }
      ]
    }
  ]
}